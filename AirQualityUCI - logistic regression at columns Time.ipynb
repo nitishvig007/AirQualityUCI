{
 "cells": [
  {
   "cell_type": "markdown",
   "metadata": {},
   "source": [
    "## AirQualityUCI"
   ]
  },
  {
   "cell_type": "code",
   "execution_count": 1,
   "metadata": {},
   "outputs": [],
   "source": [
    "import numpy as np\n",
    "import pandas as pd\n",
    "import seaborn as sns\n",
    "import matplotlib.pyplot as plt\n",
    "%matplotlib inline\n"
   ]
  },
  {
   "cell_type": "code",
   "execution_count": 2,
   "metadata": {},
   "outputs": [
    {
     "data": {
      "text/plain": [
       "(9357, 15)"
      ]
     },
     "execution_count": 2,
     "metadata": {},
     "output_type": "execute_result"
    }
   ],
   "source": [
    "df = pd.read_excel('AirQualityUCI.xlsx', sheet_name=\"AirQualityUCI\")\n",
    "df.shape"
   ]
  },
  {
   "cell_type": "code",
   "execution_count": 3,
   "metadata": {},
   "outputs": [
    {
     "data": {
      "text/html": [
       "<div>\n",
       "<style scoped>\n",
       "    .dataframe tbody tr th:only-of-type {\n",
       "        vertical-align: middle;\n",
       "    }\n",
       "\n",
       "    .dataframe tbody tr th {\n",
       "        vertical-align: top;\n",
       "    }\n",
       "\n",
       "    .dataframe thead th {\n",
       "        text-align: right;\n",
       "    }\n",
       "</style>\n",
       "<table border=\"1\" class=\"dataframe\">\n",
       "  <thead>\n",
       "    <tr style=\"text-align: right;\">\n",
       "      <th></th>\n",
       "      <th>Date</th>\n",
       "      <th>Time</th>\n",
       "      <th>CO(GT)</th>\n",
       "      <th>PT08.S1(CO)</th>\n",
       "      <th>NMHC(GT)</th>\n",
       "      <th>C6H6(GT)</th>\n",
       "      <th>PT08.S2(NMHC)</th>\n",
       "      <th>NOx(GT)</th>\n",
       "      <th>PT08.S3(NOx)</th>\n",
       "      <th>NO2(GT)</th>\n",
       "      <th>PT08.S4(NO2)</th>\n",
       "      <th>PT08.S5(O3)</th>\n",
       "      <th>T</th>\n",
       "      <th>RH</th>\n",
       "      <th>AH</th>\n",
       "    </tr>\n",
       "  </thead>\n",
       "  <tbody>\n",
       "    <tr>\n",
       "      <th>0</th>\n",
       "      <td>2004-03-10</td>\n",
       "      <td>18:00:00</td>\n",
       "      <td>2.6</td>\n",
       "      <td>1360.00</td>\n",
       "      <td>150</td>\n",
       "      <td>11.881723</td>\n",
       "      <td>1045.50</td>\n",
       "      <td>166.0</td>\n",
       "      <td>1056.25</td>\n",
       "      <td>113.0</td>\n",
       "      <td>1692.00</td>\n",
       "      <td>1267.50</td>\n",
       "      <td>13.6</td>\n",
       "      <td>48.875001</td>\n",
       "      <td>0.757754</td>\n",
       "    </tr>\n",
       "    <tr>\n",
       "      <th>1</th>\n",
       "      <td>2004-03-10</td>\n",
       "      <td>19:00:00</td>\n",
       "      <td>2.0</td>\n",
       "      <td>1292.25</td>\n",
       "      <td>112</td>\n",
       "      <td>9.397165</td>\n",
       "      <td>954.75</td>\n",
       "      <td>103.0</td>\n",
       "      <td>1173.75</td>\n",
       "      <td>92.0</td>\n",
       "      <td>1558.75</td>\n",
       "      <td>972.25</td>\n",
       "      <td>13.3</td>\n",
       "      <td>47.700000</td>\n",
       "      <td>0.725487</td>\n",
       "    </tr>\n",
       "  </tbody>\n",
       "</table>\n",
       "</div>"
      ],
      "text/plain": [
       "        Date      Time  CO(GT)  PT08.S1(CO)  NMHC(GT)   C6H6(GT)  \\\n",
       "0 2004-03-10  18:00:00     2.6      1360.00       150  11.881723   \n",
       "1 2004-03-10  19:00:00     2.0      1292.25       112   9.397165   \n",
       "\n",
       "   PT08.S2(NMHC)  NOx(GT)  PT08.S3(NOx)  NO2(GT)  PT08.S4(NO2)  PT08.S5(O3)  \\\n",
       "0        1045.50    166.0       1056.25    113.0       1692.00      1267.50   \n",
       "1         954.75    103.0       1173.75     92.0       1558.75       972.25   \n",
       "\n",
       "      T         RH        AH  \n",
       "0  13.6  48.875001  0.757754  \n",
       "1  13.3  47.700000  0.725487  "
      ]
     },
     "execution_count": 3,
     "metadata": {},
     "output_type": "execute_result"
    }
   ],
   "source": [
    "df.head(2)"
   ]
  },
  {
   "cell_type": "code",
   "execution_count": 4,
   "metadata": {},
   "outputs": [
    {
     "name": "stdout",
     "output_type": "stream",
     "text": [
      "<class 'pandas.core.frame.DataFrame'>\n",
      "RangeIndex: 9357 entries, 0 to 9356\n",
      "Data columns (total 15 columns):\n",
      "Date             9357 non-null datetime64[ns]\n",
      "Time             9357 non-null object\n",
      "CO(GT)           9357 non-null float64\n",
      "PT08.S1(CO)      9357 non-null float64\n",
      "NMHC(GT)         9357 non-null int64\n",
      "C6H6(GT)         9357 non-null float64\n",
      "PT08.S2(NMHC)    9357 non-null float64\n",
      "NOx(GT)          9357 non-null float64\n",
      "PT08.S3(NOx)     9357 non-null float64\n",
      "NO2(GT)          9357 non-null float64\n",
      "PT08.S4(NO2)     9357 non-null float64\n",
      "PT08.S5(O3)      9357 non-null float64\n",
      "T                9357 non-null float64\n",
      "RH               9357 non-null float64\n",
      "AH               9357 non-null float64\n",
      "dtypes: datetime64[ns](1), float64(12), int64(1), object(1)\n",
      "memory usage: 1.1+ MB\n"
     ]
    }
   ],
   "source": [
    "df.info()"
   ]
  },
  {
   "cell_type": "code",
   "execution_count": 5,
   "metadata": {},
   "outputs": [
    {
     "data": {
      "text/html": [
       "<div>\n",
       "<style scoped>\n",
       "    .dataframe tbody tr th:only-of-type {\n",
       "        vertical-align: middle;\n",
       "    }\n",
       "\n",
       "    .dataframe tbody tr th {\n",
       "        vertical-align: top;\n",
       "    }\n",
       "\n",
       "    .dataframe thead th {\n",
       "        text-align: right;\n",
       "    }\n",
       "</style>\n",
       "<table border=\"1\" class=\"dataframe\">\n",
       "  <thead>\n",
       "    <tr style=\"text-align: right;\">\n",
       "      <th></th>\n",
       "      <th>CO(GT)</th>\n",
       "      <th>PT08.S1(CO)</th>\n",
       "      <th>NMHC(GT)</th>\n",
       "      <th>C6H6(GT)</th>\n",
       "      <th>PT08.S2(NMHC)</th>\n",
       "      <th>NOx(GT)</th>\n",
       "      <th>PT08.S3(NOx)</th>\n",
       "      <th>NO2(GT)</th>\n",
       "      <th>PT08.S4(NO2)</th>\n",
       "      <th>PT08.S5(O3)</th>\n",
       "      <th>T</th>\n",
       "      <th>RH</th>\n",
       "      <th>AH</th>\n",
       "    </tr>\n",
       "  </thead>\n",
       "  <tbody>\n",
       "    <tr>\n",
       "      <th>count</th>\n",
       "      <td>9357.000000</td>\n",
       "      <td>9357.000000</td>\n",
       "      <td>9357.000000</td>\n",
       "      <td>9357.000000</td>\n",
       "      <td>9357.000000</td>\n",
       "      <td>9357.000000</td>\n",
       "      <td>9357.000000</td>\n",
       "      <td>9357.000000</td>\n",
       "      <td>9357.000000</td>\n",
       "      <td>9357.000000</td>\n",
       "      <td>9357.000000</td>\n",
       "      <td>9357.000000</td>\n",
       "      <td>9357.000000</td>\n",
       "    </tr>\n",
       "    <tr>\n",
       "      <th>mean</th>\n",
       "      <td>-34.207524</td>\n",
       "      <td>1048.869652</td>\n",
       "      <td>-159.090093</td>\n",
       "      <td>1.865576</td>\n",
       "      <td>894.475963</td>\n",
       "      <td>168.604200</td>\n",
       "      <td>794.872333</td>\n",
       "      <td>58.135898</td>\n",
       "      <td>1391.363266</td>\n",
       "      <td>974.951534</td>\n",
       "      <td>9.776600</td>\n",
       "      <td>39.483611</td>\n",
       "      <td>-6.837604</td>\n",
       "    </tr>\n",
       "    <tr>\n",
       "      <th>std</th>\n",
       "      <td>77.657170</td>\n",
       "      <td>329.817015</td>\n",
       "      <td>139.789093</td>\n",
       "      <td>41.380154</td>\n",
       "      <td>342.315902</td>\n",
       "      <td>257.424561</td>\n",
       "      <td>321.977031</td>\n",
       "      <td>126.931428</td>\n",
       "      <td>467.192382</td>\n",
       "      <td>456.922728</td>\n",
       "      <td>43.203438</td>\n",
       "      <td>51.215645</td>\n",
       "      <td>38.976670</td>\n",
       "    </tr>\n",
       "    <tr>\n",
       "      <th>min</th>\n",
       "      <td>-200.000000</td>\n",
       "      <td>-200.000000</td>\n",
       "      <td>-200.000000</td>\n",
       "      <td>-200.000000</td>\n",
       "      <td>-200.000000</td>\n",
       "      <td>-200.000000</td>\n",
       "      <td>-200.000000</td>\n",
       "      <td>-200.000000</td>\n",
       "      <td>-200.000000</td>\n",
       "      <td>-200.000000</td>\n",
       "      <td>-200.000000</td>\n",
       "      <td>-200.000000</td>\n",
       "      <td>-200.000000</td>\n",
       "    </tr>\n",
       "    <tr>\n",
       "      <th>25%</th>\n",
       "      <td>0.600000</td>\n",
       "      <td>921.000000</td>\n",
       "      <td>-200.000000</td>\n",
       "      <td>4.004958</td>\n",
       "      <td>711.000000</td>\n",
       "      <td>50.000000</td>\n",
       "      <td>637.000000</td>\n",
       "      <td>53.000000</td>\n",
       "      <td>1184.750000</td>\n",
       "      <td>699.750000</td>\n",
       "      <td>10.950000</td>\n",
       "      <td>34.050000</td>\n",
       "      <td>0.692275</td>\n",
       "    </tr>\n",
       "    <tr>\n",
       "      <th>50%</th>\n",
       "      <td>1.500000</td>\n",
       "      <td>1052.500000</td>\n",
       "      <td>-200.000000</td>\n",
       "      <td>7.886653</td>\n",
       "      <td>894.500000</td>\n",
       "      <td>141.000000</td>\n",
       "      <td>794.250000</td>\n",
       "      <td>96.000000</td>\n",
       "      <td>1445.500000</td>\n",
       "      <td>942.000000</td>\n",
       "      <td>17.200000</td>\n",
       "      <td>48.550000</td>\n",
       "      <td>0.976823</td>\n",
       "    </tr>\n",
       "    <tr>\n",
       "      <th>75%</th>\n",
       "      <td>2.600000</td>\n",
       "      <td>1221.250000</td>\n",
       "      <td>-200.000000</td>\n",
       "      <td>13.636091</td>\n",
       "      <td>1104.750000</td>\n",
       "      <td>284.200000</td>\n",
       "      <td>960.250000</td>\n",
       "      <td>133.000000</td>\n",
       "      <td>1662.000000</td>\n",
       "      <td>1255.250000</td>\n",
       "      <td>24.075000</td>\n",
       "      <td>61.875000</td>\n",
       "      <td>1.296223</td>\n",
       "    </tr>\n",
       "    <tr>\n",
       "      <th>max</th>\n",
       "      <td>11.900000</td>\n",
       "      <td>2039.750000</td>\n",
       "      <td>1189.000000</td>\n",
       "      <td>63.741476</td>\n",
       "      <td>2214.000000</td>\n",
       "      <td>1479.000000</td>\n",
       "      <td>2682.750000</td>\n",
       "      <td>339.700000</td>\n",
       "      <td>2775.000000</td>\n",
       "      <td>2522.750000</td>\n",
       "      <td>44.600000</td>\n",
       "      <td>88.725000</td>\n",
       "      <td>2.231036</td>\n",
       "    </tr>\n",
       "  </tbody>\n",
       "</table>\n",
       "</div>"
      ],
      "text/plain": [
       "            CO(GT)  PT08.S1(CO)     NMHC(GT)     C6H6(GT)  PT08.S2(NMHC)  \\\n",
       "count  9357.000000  9357.000000  9357.000000  9357.000000    9357.000000   \n",
       "mean    -34.207524  1048.869652  -159.090093     1.865576     894.475963   \n",
       "std      77.657170   329.817015   139.789093    41.380154     342.315902   \n",
       "min    -200.000000  -200.000000  -200.000000  -200.000000    -200.000000   \n",
       "25%       0.600000   921.000000  -200.000000     4.004958     711.000000   \n",
       "50%       1.500000  1052.500000  -200.000000     7.886653     894.500000   \n",
       "75%       2.600000  1221.250000  -200.000000    13.636091    1104.750000   \n",
       "max      11.900000  2039.750000  1189.000000    63.741476    2214.000000   \n",
       "\n",
       "           NOx(GT)  PT08.S3(NOx)      NO2(GT)  PT08.S4(NO2)  PT08.S5(O3)  \\\n",
       "count  9357.000000   9357.000000  9357.000000   9357.000000  9357.000000   \n",
       "mean    168.604200    794.872333    58.135898   1391.363266   974.951534   \n",
       "std     257.424561    321.977031   126.931428    467.192382   456.922728   \n",
       "min    -200.000000   -200.000000  -200.000000   -200.000000  -200.000000   \n",
       "25%      50.000000    637.000000    53.000000   1184.750000   699.750000   \n",
       "50%     141.000000    794.250000    96.000000   1445.500000   942.000000   \n",
       "75%     284.200000    960.250000   133.000000   1662.000000  1255.250000   \n",
       "max    1479.000000   2682.750000   339.700000   2775.000000  2522.750000   \n",
       "\n",
       "                 T           RH           AH  \n",
       "count  9357.000000  9357.000000  9357.000000  \n",
       "mean      9.776600    39.483611    -6.837604  \n",
       "std      43.203438    51.215645    38.976670  \n",
       "min    -200.000000  -200.000000  -200.000000  \n",
       "25%      10.950000    34.050000     0.692275  \n",
       "50%      17.200000    48.550000     0.976823  \n",
       "75%      24.075000    61.875000     1.296223  \n",
       "max      44.600000    88.725000     2.231036  "
      ]
     },
     "execution_count": 5,
     "metadata": {},
     "output_type": "execute_result"
    }
   ],
   "source": [
    "df.describe()"
   ]
  },
  {
   "cell_type": "code",
   "execution_count": 6,
   "metadata": {},
   "outputs": [
    {
     "data": {
      "text/plain": [
       "Index(['Date', 'Time', 'CO(GT)', 'PT08.S1(CO)', 'NMHC(GT)', 'C6H6(GT)',\n",
       "       'PT08.S2(NMHC)', 'NOx(GT)', 'PT08.S3(NOx)', 'NO2(GT)', 'PT08.S4(NO2)',\n",
       "       'PT08.S5(O3)', 'T', 'RH', 'AH'],\n",
       "      dtype='object')"
      ]
     },
     "execution_count": 6,
     "metadata": {},
     "output_type": "execute_result"
    }
   ],
   "source": [
    "df.columns"
   ]
  },
  {
   "cell_type": "code",
   "execution_count": 7,
   "metadata": {},
   "outputs": [
    {
     "data": {
      "text/plain": [
       "Time\n",
       "00:00:00    368008.416667\n",
       "01:00:00    334442.416667\n",
       "02:00:00    298016.750000\n",
       "03:00:00    272881.916667\n",
       "04:00:00    261311.500000\n",
       "05:00:00    266273.166667\n",
       "06:00:00    303238.083333\n",
       "07:00:00    391226.750000\n",
       "08:00:00    471522.583333\n",
       "09:00:00    480710.750000\n",
       "10:00:00    452581.083333\n",
       "11:00:00    416294.833333\n",
       "12:00:00    391204.916667\n",
       "13:00:00    373806.500000\n",
       "14:00:00    348173.333333\n",
       "15:00:00    346346.333333\n",
       "16:00:00    359655.416667\n",
       "17:00:00    400728.750000\n",
       "18:00:00    451207.916667\n",
       "19:00:00    476883.500000\n",
       "20:00:00    469448.000000\n",
       "21:00:00    420919.583333\n",
       "22:00:00    388864.333333\n",
       "23:00:00    378874.666667\n",
       "Name: PT08.S5(O3), dtype: float64"
      ]
     },
     "execution_count": 7,
     "metadata": {},
     "output_type": "execute_result"
    }
   ],
   "source": [
    "eda = df.groupby('Time')\n",
    "eda['PT08.S5(O3)'].sum()"
   ]
  },
  {
   "cell_type": "code",
   "execution_count": 8,
   "metadata": {},
   "outputs": [],
   "source": [
    "lt = eda['PT08.S5(O3)'].sum()"
   ]
  },
  {
   "cell_type": "code",
   "execution_count": 9,
   "metadata": {},
   "outputs": [
    {
     "name": "stdout",
     "output_type": "stream",
     "text": [
      "368008.4166666667 : 334442.4166666666 : 298016.75 : 272881.9166666667 : 261311.5 : 266273.1666666667 : 303238.08333333326 : 391226.75000000006 : 471522.5833333333 : 480710.75 : 452581.0833333333 : 416294.8333333334 : 391204.9166666667 : 373806.49999999994 : 348173.3333333333 : 346346.3333333333 : 359655.4166666666 : 400728.75 : 451207.9166666666 : 476883.5 : 469448.0 : 420919.5833333333 : 388864.3333333334 : 378874.6666666667 : "
     ]
    }
   ],
   "source": [
    "for i in range(len(lt)):\n",
    "    print(lt[i], end = \" : \")"
   ]
  },
  {
   "cell_type": "code",
   "execution_count": null,
   "metadata": {},
   "outputs": [],
   "source": []
  },
  {
   "cell_type": "code",
   "execution_count": 10,
   "metadata": {},
   "outputs": [],
   "source": [
    "eda = df.groupby('Time')\n",
    "tab = eda.sum()"
   ]
  },
  {
   "cell_type": "code",
   "execution_count": 11,
   "metadata": {},
   "outputs": [
    {
     "data": {
      "text/html": [
       "<div>\n",
       "<style scoped>\n",
       "    .dataframe tbody tr th:only-of-type {\n",
       "        vertical-align: middle;\n",
       "    }\n",
       "\n",
       "    .dataframe tbody tr th {\n",
       "        vertical-align: top;\n",
       "    }\n",
       "\n",
       "    .dataframe thead th {\n",
       "        text-align: right;\n",
       "    }\n",
       "</style>\n",
       "<table border=\"1\" class=\"dataframe\">\n",
       "  <thead>\n",
       "    <tr style=\"text-align: right;\">\n",
       "      <th></th>\n",
       "      <th>CO(GT)</th>\n",
       "      <th>PT08.S1(CO)</th>\n",
       "      <th>NMHC(GT)</th>\n",
       "      <th>C6H6(GT)</th>\n",
       "      <th>PT08.S2(NMHC)</th>\n",
       "      <th>NOx(GT)</th>\n",
       "      <th>PT08.S3(NOx)</th>\n",
       "      <th>NO2(GT)</th>\n",
       "      <th>PT08.S4(NO2)</th>\n",
       "      <th>PT08.S5(O3)</th>\n",
       "      <th>T</th>\n",
       "      <th>RH</th>\n",
       "      <th>AH</th>\n",
       "    </tr>\n",
       "    <tr>\n",
       "      <th>Time</th>\n",
       "      <th></th>\n",
       "      <th></th>\n",
       "      <th></th>\n",
       "      <th></th>\n",
       "      <th></th>\n",
       "      <th></th>\n",
       "      <th></th>\n",
       "      <th></th>\n",
       "      <th></th>\n",
       "      <th></th>\n",
       "      <th></th>\n",
       "      <th></th>\n",
       "      <th></th>\n",
       "    </tr>\n",
       "  </thead>\n",
       "  <tbody>\n",
       "    <tr>\n",
       "      <th>00:00:00</th>\n",
       "      <td>-11612.4</td>\n",
       "      <td>392539.250000</td>\n",
       "      <td>-66178</td>\n",
       "      <td>-740.529765</td>\n",
       "      <td>319740.083333</td>\n",
       "      <td>53175.2</td>\n",
       "      <td>312028.916667</td>\n",
       "      <td>23904.2</td>\n",
       "      <td>512460.416667</td>\n",
       "      <td>368008.416667</td>\n",
       "      <td>2391.358330</td>\n",
       "      <td>17017.075002</td>\n",
       "      <td>-3208.090363</td>\n",
       "    </tr>\n",
       "    <tr>\n",
       "      <th>01:00:00</th>\n",
       "      <td>-12925.9</td>\n",
       "      <td>372182.833333</td>\n",
       "      <td>-67475</td>\n",
       "      <td>-958.738447</td>\n",
       "      <td>294447.333333</td>\n",
       "      <td>41346.1</td>\n",
       "      <td>338189.500000</td>\n",
       "      <td>19024.0</td>\n",
       "      <td>493944.750000</td>\n",
       "      <td>334442.416667</td>\n",
       "      <td>2682.250000</td>\n",
       "      <td>17948.283317</td>\n",
       "      <td>-2806.461290</td>\n",
       "    </tr>\n",
       "    <tr>\n",
       "      <th>02:00:00</th>\n",
       "      <td>-13648.3</td>\n",
       "      <td>350917.416667</td>\n",
       "      <td>-68049</td>\n",
       "      <td>-1357.996354</td>\n",
       "      <td>265285.750000</td>\n",
       "      <td>27766.2</td>\n",
       "      <td>372713.666667</td>\n",
       "      <td>13437.9</td>\n",
       "      <td>474912.250000</td>\n",
       "      <td>298016.750000</td>\n",
       "      <td>2731.683334</td>\n",
       "      <td>18682.066656</td>\n",
       "      <td>-2606.860721</td>\n",
       "    </tr>\n",
       "    <tr>\n",
       "      <th>03:00:00</th>\n",
       "      <td>-15322.8</td>\n",
       "      <td>337101.333333</td>\n",
       "      <td>-68640</td>\n",
       "      <td>-1529.337229</td>\n",
       "      <td>244756.333333</td>\n",
       "      <td>-69823.0</td>\n",
       "      <td>403673.083333</td>\n",
       "      <td>-70717.9</td>\n",
       "      <td>462687.500000</td>\n",
       "      <td>272881.916667</td>\n",
       "      <td>2777.258335</td>\n",
       "      <td>19397.441681</td>\n",
       "      <td>-2408.215139</td>\n",
       "    </tr>\n",
       "    <tr>\n",
       "      <th>04:00:00</th>\n",
       "      <td>-42064.2</td>\n",
       "      <td>330903.833333</td>\n",
       "      <td>-69113</td>\n",
       "      <td>-1500.842393</td>\n",
       "      <td>235212.916667</td>\n",
       "      <td>15336.1</td>\n",
       "      <td>419907.583333</td>\n",
       "      <td>7854.0</td>\n",
       "      <td>457855.083333</td>\n",
       "      <td>261311.500000</td>\n",
       "      <td>2841.291670</td>\n",
       "      <td>20099.366686</td>\n",
       "      <td>-2208.843581</td>\n",
       "    </tr>\n",
       "  </tbody>\n",
       "</table>\n",
       "</div>"
      ],
      "text/plain": [
       "           CO(GT)    PT08.S1(CO)  NMHC(GT)     C6H6(GT)  PT08.S2(NMHC)  \\\n",
       "Time                                                                     \n",
       "00:00:00 -11612.4  392539.250000    -66178  -740.529765  319740.083333   \n",
       "01:00:00 -12925.9  372182.833333    -67475  -958.738447  294447.333333   \n",
       "02:00:00 -13648.3  350917.416667    -68049 -1357.996354  265285.750000   \n",
       "03:00:00 -15322.8  337101.333333    -68640 -1529.337229  244756.333333   \n",
       "04:00:00 -42064.2  330903.833333    -69113 -1500.842393  235212.916667   \n",
       "\n",
       "          NOx(GT)   PT08.S3(NOx)  NO2(GT)   PT08.S4(NO2)    PT08.S5(O3)  \\\n",
       "Time                                                                      \n",
       "00:00:00  53175.2  312028.916667  23904.2  512460.416667  368008.416667   \n",
       "01:00:00  41346.1  338189.500000  19024.0  493944.750000  334442.416667   \n",
       "02:00:00  27766.2  372713.666667  13437.9  474912.250000  298016.750000   \n",
       "03:00:00 -69823.0  403673.083333 -70717.9  462687.500000  272881.916667   \n",
       "04:00:00  15336.1  419907.583333   7854.0  457855.083333  261311.500000   \n",
       "\n",
       "                    T            RH           AH  \n",
       "Time                                              \n",
       "00:00:00  2391.358330  17017.075002 -3208.090363  \n",
       "01:00:00  2682.250000  17948.283317 -2806.461290  \n",
       "02:00:00  2731.683334  18682.066656 -2606.860721  \n",
       "03:00:00  2777.258335  19397.441681 -2408.215139  \n",
       "04:00:00  2841.291670  20099.366686 -2208.843581  "
      ]
     },
     "execution_count": 11,
     "metadata": {},
     "output_type": "execute_result"
    }
   ],
   "source": [
    "tab.head()"
   ]
  },
  {
   "cell_type": "code",
   "execution_count": 12,
   "metadata": {},
   "outputs": [
    {
     "data": {
      "text/plain": [
       "CO(GT)            -9953.100000\n",
       "PT08.S1(CO)      471716.333333\n",
       "NMHC(GT)         -51503.000000\n",
       "C6H6(GT)           3178.812447\n",
       "PT08.S2(NMHC)    441805.333333\n",
       "NOx(GT)          112060.000000\n",
       "PT08.S3(NOx)     419907.583333\n",
       "NO2(GT)           39976.300000\n",
       "PT08.S4(NO2)     633380.333333\n",
       "PT08.S5(O3)      480710.750000\n",
       "T                  5990.024995\n",
       "RH                20364.224983\n",
       "AH                -2006.109493\n",
       "dtype: float64"
      ]
     },
     "execution_count": 12,
     "metadata": {},
     "output_type": "execute_result"
    }
   ],
   "source": [
    "tab.max()"
   ]
  },
  {
   "cell_type": "code",
   "execution_count": 13,
   "metadata": {},
   "outputs": [
    {
     "data": {
      "text/plain": [
       "-51503.0"
      ]
     },
     "execution_count": 13,
     "metadata": {},
     "output_type": "execute_result"
    }
   ],
   "source": [
    "tab.max()[2]"
   ]
  },
  {
   "cell_type": "code",
   "execution_count": 14,
   "metadata": {},
   "outputs": [],
   "source": [
    "lst = eda[\"NMHC(GT)\"].sum()"
   ]
  },
  {
   "cell_type": "code",
   "execution_count": 15,
   "metadata": {},
   "outputs": [],
   "source": [
    "for i in range(len(lst)) : \n",
    "    if lst[i] == tab.max()[2] :\n",
    "        break"
   ]
  },
  {
   "cell_type": "code",
   "execution_count": 16,
   "metadata": {},
   "outputs": [
    {
     "data": {
      "text/plain": [
       "CO(GT)            -9953.100000\n",
       "PT08.S1(CO)      471716.333333\n",
       "NMHC(GT)         -51503.000000\n",
       "C6H6(GT)           2779.889822\n",
       "PT08.S2(NMHC)    441805.333333\n",
       "NOx(GT)          112060.000000\n",
       "PT08.S3(NOx)     242523.833333\n",
       "NO2(GT)           39976.300000\n",
       "PT08.S4(NO2)     624397.916667\n",
       "PT08.S5(O3)      476883.500000\n",
       "T                  3551.350005\n",
       "RH                12743.066665\n",
       "AH                -3418.990342\n",
       "Name: 19:00:00, dtype: float64"
      ]
     },
     "execution_count": 16,
     "metadata": {},
     "output_type": "execute_result"
    }
   ],
   "source": [
    "tab.iloc[i, :]"
   ]
  },
  {
   "cell_type": "code",
   "execution_count": null,
   "metadata": {},
   "outputs": [],
   "source": []
  },
  {
   "cell_type": "code",
   "execution_count": 17,
   "metadata": {},
   "outputs": [
    {
     "name": "stderr",
     "output_type": "stream",
     "text": [
      "C:\\Users\\sony\\Anaconda3\\lib\\site-packages\\ipykernel_launcher.py:14: UserWarning: Matplotlib is currently using module://ipykernel.pylab.backend_inline, which is a non-GUI backend, so cannot show the figure.\n",
      "  \n"
     ]
    },
    {
     "data": {
      "image/png": "[encoded data removed]",
      "text/plain": [
       "<Figure size 1440x360 with 1 Axes>"
      ]
     },
     "metadata": {
      "needs_background": "light"
     },
     "output_type": "display_data"
    }
   ],
   "source": [
    "fig = plt.figure(figsize = (20, 5))\n",
    "\n",
    "sns.lineplot(x = tab.index, y = tab[\"CO(GT)\"])\n",
    "sns.lineplot(x = tab.index, y = tab[\"PT08.S1(CO)\"])\n",
    "sns.lineplot(x = tab.index, y = tab[\"NMHC(GT)\"])\n",
    "sns.lineplot(x = tab.index, y = tab[\"C6H6(GT)\"])\n",
    "sns.lineplot(x = tab.index, y = tab[\"PT08.S2(NMHC)\"])\n",
    "sns.lineplot(x = tab.index, y = tab[\"NOx(GT)\"])\n",
    "sns.lineplot(x = tab.index, y = tab[\"PT08.S3(NOx)\"])\n",
    "sns.lineplot(x = tab.index, y = tab[\"NO2(GT)\"])\n",
    "sns.lineplot(x = tab.index, y = tab[\"PT08.S4(NO2)\"])\n",
    "sns.lineplot(x = tab.index, y = tab[\"PT08.S5(O3)\"])\n",
    "fig.legend(tab)\n",
    "fig.show()"
   ]
  },
  {
   "cell_type": "code",
   "execution_count": null,
   "metadata": {},
   "outputs": [],
   "source": []
  },
  {
   "cell_type": "code",
   "execution_count": 52,
   "metadata": {},
   "outputs": [
    {
     "data": {
      "text/plain": [
       "(9357, 15)"
      ]
     },
     "execution_count": 52,
     "metadata": {},
     "output_type": "execute_result"
    }
   ],
   "source": [
    "df = pd.read_excel('AirQualityUCI.xlsx', sheet_name=\"AirQualityUCI_updated\")\n",
    "df.shape"
   ]
  },
  {
   "cell_type": "code",
   "execution_count": 53,
   "metadata": {},
   "outputs": [
    {
     "data": {
      "text/plain": [
       "(8991, 15)"
      ]
     },
     "execution_count": 53,
     "metadata": {},
     "output_type": "execute_result"
    }
   ],
   "source": [
    "df[df['T'] != -200].shape"
   ]
  },
  {
   "cell_type": "code",
   "execution_count": 54,
   "metadata": {},
   "outputs": [
    {
     "data": {
      "text/html": [
       "<div>\n",
       "<style scoped>\n",
       "    .dataframe tbody tr th:only-of-type {\n",
       "        vertical-align: middle;\n",
       "    }\n",
       "\n",
       "    .dataframe tbody tr th {\n",
       "        vertical-align: top;\n",
       "    }\n",
       "\n",
       "    .dataframe thead th {\n",
       "        text-align: right;\n",
       "    }\n",
       "</style>\n",
       "<table border=\"1\" class=\"dataframe\">\n",
       "  <thead>\n",
       "    <tr style=\"text-align: right;\">\n",
       "      <th></th>\n",
       "      <th>Date</th>\n",
       "      <th>Time</th>\n",
       "      <th>CO_GT</th>\n",
       "      <th>PT08_S1_CO</th>\n",
       "      <th>NMHC_GT</th>\n",
       "      <th>C6H6_GT</th>\n",
       "      <th>PT08_S2_NMHC</th>\n",
       "      <th>NOx_GT</th>\n",
       "      <th>PT08_S3_NOx</th>\n",
       "      <th>NO2_GT</th>\n",
       "      <th>PT08_S4_NO2</th>\n",
       "      <th>PT08_S5_O3</th>\n",
       "      <th>T</th>\n",
       "      <th>RH</th>\n",
       "      <th>AH</th>\n",
       "    </tr>\n",
       "  </thead>\n",
       "  <tbody>\n",
       "    <tr>\n",
       "      <th>0</th>\n",
       "      <td>2004-03-10</td>\n",
       "      <td>18:00:00</td>\n",
       "      <td>2.6</td>\n",
       "      <td>1360.00</td>\n",
       "      <td>150</td>\n",
       "      <td>11.881723</td>\n",
       "      <td>1045.50</td>\n",
       "      <td>166.0</td>\n",
       "      <td>1056.25</td>\n",
       "      <td>113.0</td>\n",
       "      <td>1692.00</td>\n",
       "      <td>1267.50</td>\n",
       "      <td>13.60</td>\n",
       "      <td>48.875001</td>\n",
       "      <td>0.757754</td>\n",
       "    </tr>\n",
       "    <tr>\n",
       "      <th>1</th>\n",
       "      <td>2004-03-10</td>\n",
       "      <td>19:00:00</td>\n",
       "      <td>2.0</td>\n",
       "      <td>1292.25</td>\n",
       "      <td>112</td>\n",
       "      <td>9.397165</td>\n",
       "      <td>954.75</td>\n",
       "      <td>103.0</td>\n",
       "      <td>1173.75</td>\n",
       "      <td>92.0</td>\n",
       "      <td>1558.75</td>\n",
       "      <td>972.25</td>\n",
       "      <td>13.30</td>\n",
       "      <td>47.700000</td>\n",
       "      <td>0.725487</td>\n",
       "    </tr>\n",
       "    <tr>\n",
       "      <th>2</th>\n",
       "      <td>2004-03-10</td>\n",
       "      <td>20:00:00</td>\n",
       "      <td>2.2</td>\n",
       "      <td>1402.00</td>\n",
       "      <td>88</td>\n",
       "      <td>8.997817</td>\n",
       "      <td>939.25</td>\n",
       "      <td>131.0</td>\n",
       "      <td>1140.00</td>\n",
       "      <td>114.0</td>\n",
       "      <td>1554.50</td>\n",
       "      <td>1074.00</td>\n",
       "      <td>11.90</td>\n",
       "      <td>53.975000</td>\n",
       "      <td>0.750239</td>\n",
       "    </tr>\n",
       "    <tr>\n",
       "      <th>3</th>\n",
       "      <td>2004-03-10</td>\n",
       "      <td>21:00:00</td>\n",
       "      <td>2.2</td>\n",
       "      <td>1375.50</td>\n",
       "      <td>80</td>\n",
       "      <td>9.228796</td>\n",
       "      <td>948.25</td>\n",
       "      <td>172.0</td>\n",
       "      <td>1092.00</td>\n",
       "      <td>122.0</td>\n",
       "      <td>1583.75</td>\n",
       "      <td>1203.25</td>\n",
       "      <td>11.00</td>\n",
       "      <td>60.000000</td>\n",
       "      <td>0.786713</td>\n",
       "    </tr>\n",
       "    <tr>\n",
       "      <th>4</th>\n",
       "      <td>2004-03-10</td>\n",
       "      <td>22:00:00</td>\n",
       "      <td>1.6</td>\n",
       "      <td>1272.25</td>\n",
       "      <td>51</td>\n",
       "      <td>6.518224</td>\n",
       "      <td>835.50</td>\n",
       "      <td>131.0</td>\n",
       "      <td>1205.00</td>\n",
       "      <td>116.0</td>\n",
       "      <td>1490.00</td>\n",
       "      <td>1110.00</td>\n",
       "      <td>11.15</td>\n",
       "      <td>59.575001</td>\n",
       "      <td>0.788794</td>\n",
       "    </tr>\n",
       "  </tbody>\n",
       "</table>\n",
       "</div>"
      ],
      "text/plain": [
       "        Date      Time  CO_GT  PT08_S1_CO  NMHC_GT    C6H6_GT  PT08_S2_NMHC  \\\n",
       "0 2004-03-10  18:00:00    2.6     1360.00      150  11.881723       1045.50   \n",
       "1 2004-03-10  19:00:00    2.0     1292.25      112   9.397165        954.75   \n",
       "2 2004-03-10  20:00:00    2.2     1402.00       88   8.997817        939.25   \n",
       "3 2004-03-10  21:00:00    2.2     1375.50       80   9.228796        948.25   \n",
       "4 2004-03-10  22:00:00    1.6     1272.25       51   6.518224        835.50   \n",
       "\n",
       "   NOx_GT  PT08_S3_NOx  NO2_GT  PT08_S4_NO2  PT08_S5_O3      T         RH  \\\n",
       "0   166.0      1056.25   113.0      1692.00     1267.50  13.60  48.875001   \n",
       "1   103.0      1173.75    92.0      1558.75      972.25  13.30  47.700000   \n",
       "2   131.0      1140.00   114.0      1554.50     1074.00  11.90  53.975000   \n",
       "3   172.0      1092.00   122.0      1583.75     1203.25  11.00  60.000000   \n",
       "4   131.0      1205.00   116.0      1490.00     1110.00  11.15  59.575001   \n",
       "\n",
       "         AH  \n",
       "0  0.757754  \n",
       "1  0.725487  \n",
       "2  0.750239  \n",
       "3  0.786713  \n",
       "4  0.788794  "
      ]
     },
     "execution_count": 54,
     "metadata": {},
     "output_type": "execute_result"
    }
   ],
   "source": [
    "df[df['T'] != -200].head()"
   ]
  },
  {
   "cell_type": "code",
   "execution_count": 55,
   "metadata": {},
   "outputs": [],
   "source": [
    "df_new = df[df['T'] != -200]"
   ]
  },
  {
   "cell_type": "code",
   "execution_count": 56,
   "metadata": {},
   "outputs": [
    {
     "data": {
      "text/plain": [
       "(8991, 15)"
      ]
     },
     "execution_count": 56,
     "metadata": {},
     "output_type": "execute_result"
    }
   ],
   "source": [
    "df_new.head()\n",
    "df_new.shape"
   ]
  },
  {
   "cell_type": "code",
   "execution_count": 57,
   "metadata": {},
   "outputs": [
    {
     "data": {
      "text/plain": [
       "(9357, 15)"
      ]
     },
     "execution_count": 57,
     "metadata": {},
     "output_type": "execute_result"
    }
   ],
   "source": [
    "df.shape"
   ]
  },
  {
   "cell_type": "code",
   "execution_count": 58,
   "metadata": {},
   "outputs": [
    {
     "name": "stderr",
     "output_type": "stream",
     "text": [
      "C:\\Users\\sony\\Anaconda3\\lib\\site-packages\\ipykernel_launcher.py:3: SettingWithCopyWarning: \n",
      "A value is trying to be set on a copy of a slice from a DataFrame.\n",
      "Try using .loc[row_indexer,col_indexer] = value instead\n",
      "\n",
      "See the caveats in the documentation: http://pandas.pydata.org/pandas-docs/stable/indexing.html#indexing-view-versus-copy\n",
      "  This is separate from the ipykernel package so we can avoid doing imports until\n"
     ]
    }
   ],
   "source": [
    "from sklearn.preprocessing import LabelEncoder, StandardScaler\n",
    "le = LabelEncoder()\n",
    "df_new['Time'] = le.fit_transform(df_new['Time'])"
   ]
  },
  {
   "cell_type": "code",
   "execution_count": 59,
   "metadata": {},
   "outputs": [
    {
     "data": {
      "text/html": [
       "<div>\n",
       "<style scoped>\n",
       "    .dataframe tbody tr th:only-of-type {\n",
       "        vertical-align: middle;\n",
       "    }\n",
       "\n",
       "    .dataframe tbody tr th {\n",
       "        vertical-align: top;\n",
       "    }\n",
       "\n",
       "    .dataframe thead th {\n",
       "        text-align: right;\n",
       "    }\n",
       "</style>\n",
       "<table border=\"1\" class=\"dataframe\">\n",
       "  <thead>\n",
       "    <tr style=\"text-align: right;\">\n",
       "      <th></th>\n",
       "      <th>Date</th>\n",
       "      <th>Time</th>\n",
       "      <th>CO_GT</th>\n",
       "      <th>PT08_S1_CO</th>\n",
       "      <th>NMHC_GT</th>\n",
       "      <th>C6H6_GT</th>\n",
       "      <th>PT08_S2_NMHC</th>\n",
       "      <th>NOx_GT</th>\n",
       "      <th>PT08_S3_NOx</th>\n",
       "      <th>NO2_GT</th>\n",
       "      <th>PT08_S4_NO2</th>\n",
       "      <th>PT08_S5_O3</th>\n",
       "      <th>T</th>\n",
       "      <th>RH</th>\n",
       "      <th>AH</th>\n",
       "    </tr>\n",
       "  </thead>\n",
       "  <tbody>\n",
       "    <tr>\n",
       "      <th>0</th>\n",
       "      <td>2004-03-10</td>\n",
       "      <td>18</td>\n",
       "      <td>2.6</td>\n",
       "      <td>1360.00</td>\n",
       "      <td>150</td>\n",
       "      <td>11.881723</td>\n",
       "      <td>1045.50</td>\n",
       "      <td>166.0</td>\n",
       "      <td>1056.25</td>\n",
       "      <td>113.0</td>\n",
       "      <td>1692.00</td>\n",
       "      <td>1267.50</td>\n",
       "      <td>13.60</td>\n",
       "      <td>48.875001</td>\n",
       "      <td>0.757754</td>\n",
       "    </tr>\n",
       "    <tr>\n",
       "      <th>1</th>\n",
       "      <td>2004-03-10</td>\n",
       "      <td>19</td>\n",
       "      <td>2.0</td>\n",
       "      <td>1292.25</td>\n",
       "      <td>112</td>\n",
       "      <td>9.397165</td>\n",
       "      <td>954.75</td>\n",
       "      <td>103.0</td>\n",
       "      <td>1173.75</td>\n",
       "      <td>92.0</td>\n",
       "      <td>1558.75</td>\n",
       "      <td>972.25</td>\n",
       "      <td>13.30</td>\n",
       "      <td>47.700000</td>\n",
       "      <td>0.725487</td>\n",
       "    </tr>\n",
       "    <tr>\n",
       "      <th>2</th>\n",
       "      <td>2004-03-10</td>\n",
       "      <td>20</td>\n",
       "      <td>2.2</td>\n",
       "      <td>1402.00</td>\n",
       "      <td>88</td>\n",
       "      <td>8.997817</td>\n",
       "      <td>939.25</td>\n",
       "      <td>131.0</td>\n",
       "      <td>1140.00</td>\n",
       "      <td>114.0</td>\n",
       "      <td>1554.50</td>\n",
       "      <td>1074.00</td>\n",
       "      <td>11.90</td>\n",
       "      <td>53.975000</td>\n",
       "      <td>0.750239</td>\n",
       "    </tr>\n",
       "    <tr>\n",
       "      <th>3</th>\n",
       "      <td>2004-03-10</td>\n",
       "      <td>21</td>\n",
       "      <td>2.2</td>\n",
       "      <td>1375.50</td>\n",
       "      <td>80</td>\n",
       "      <td>9.228796</td>\n",
       "      <td>948.25</td>\n",
       "      <td>172.0</td>\n",
       "      <td>1092.00</td>\n",
       "      <td>122.0</td>\n",
       "      <td>1583.75</td>\n",
       "      <td>1203.25</td>\n",
       "      <td>11.00</td>\n",
       "      <td>60.000000</td>\n",
       "      <td>0.786713</td>\n",
       "    </tr>\n",
       "    <tr>\n",
       "      <th>4</th>\n",
       "      <td>2004-03-10</td>\n",
       "      <td>22</td>\n",
       "      <td>1.6</td>\n",
       "      <td>1272.25</td>\n",
       "      <td>51</td>\n",
       "      <td>6.518224</td>\n",
       "      <td>835.50</td>\n",
       "      <td>131.0</td>\n",
       "      <td>1205.00</td>\n",
       "      <td>116.0</td>\n",
       "      <td>1490.00</td>\n",
       "      <td>1110.00</td>\n",
       "      <td>11.15</td>\n",
       "      <td>59.575001</td>\n",
       "      <td>0.788794</td>\n",
       "    </tr>\n",
       "  </tbody>\n",
       "</table>\n",
       "</div>"
      ],
      "text/plain": [
       "        Date  Time  CO_GT  PT08_S1_CO  NMHC_GT    C6H6_GT  PT08_S2_NMHC  \\\n",
       "0 2004-03-10    18    2.6     1360.00      150  11.881723       1045.50   \n",
       "1 2004-03-10    19    2.0     1292.25      112   9.397165        954.75   \n",
       "2 2004-03-10    20    2.2     1402.00       88   8.997817        939.25   \n",
       "3 2004-03-10    21    2.2     1375.50       80   9.228796        948.25   \n",
       "4 2004-03-10    22    1.6     1272.25       51   6.518224        835.50   \n",
       "\n",
       "   NOx_GT  PT08_S3_NOx  NO2_GT  PT08_S4_NO2  PT08_S5_O3      T         RH  \\\n",
       "0   166.0      1056.25   113.0      1692.00     1267.50  13.60  48.875001   \n",
       "1   103.0      1173.75    92.0      1558.75      972.25  13.30  47.700000   \n",
       "2   131.0      1140.00   114.0      1554.50     1074.00  11.90  53.975000   \n",
       "3   172.0      1092.00   122.0      1583.75     1203.25  11.00  60.000000   \n",
       "4   131.0      1205.00   116.0      1490.00     1110.00  11.15  59.575001   \n",
       "\n",
       "         AH  \n",
       "0  0.757754  \n",
       "1  0.725487  \n",
       "2  0.750239  \n",
       "3  0.786713  \n",
       "4  0.788794  "
      ]
     },
     "execution_count": 59,
     "metadata": {},
     "output_type": "execute_result"
    }
   ],
   "source": [
    "df_new.head()"
   ]
  },
  {
   "cell_type": "code",
   "execution_count": 60,
   "metadata": {},
   "outputs": [],
   "source": [
    "scaler = StandardScaler()"
   ]
  },
  {
   "cell_type": "code",
   "execution_count": 27,
   "metadata": {},
   "outputs": [],
   "source": [
    "#df[[\"CO(GT)\",\"PT08.S1(CO)\",\"NMHC(GT)\",\"C6H6(GT)\",\"PT08.S2(NMHC)\",\"NOx(GT)\",'PT08.S3(NOx)','NO2(GT)','PT08.S4(NO2)','PT08.S5(O3)','T','RH']] = scaler.fit_transform(df[[\"CO(GT)\",\"PT08.S1(CO)\",\"NMHC(GT)\",\"C6H6(GT)\",\"PT08.S2(NMHC)\",\"NOx(GT)\",'PT08.S3(NOx)','NO2(GT)','PT08.S4(NO2)','PT08.S5(O3)','T','RH']])"
   ]
  },
  {
   "cell_type": "code",
   "execution_count": 61,
   "metadata": {},
   "outputs": [
    {
     "name": "stderr",
     "output_type": "stream",
     "text": [
      "C:\\Users\\sony\\Anaconda3\\lib\\site-packages\\pandas\\core\\frame.py:3940: SettingWithCopyWarning: \n",
      "A value is trying to be set on a copy of a slice from a DataFrame\n",
      "\n",
      "See the caveats in the documentation: http://pandas.pydata.org/pandas-docs/stable/indexing.html#indexing-view-versus-copy\n",
      "  errors=errors)\n"
     ]
    }
   ],
   "source": [
    "df_new.drop(\"Date\", axis=1, inplace=True)"
   ]
  },
  {
   "cell_type": "code",
   "execution_count": 62,
   "metadata": {},
   "outputs": [
    {
     "data": {
      "text/html": [
       "<div>\n",
       "<style scoped>\n",
       "    .dataframe tbody tr th:only-of-type {\n",
       "        vertical-align: middle;\n",
       "    }\n",
       "\n",
       "    .dataframe tbody tr th {\n",
       "        vertical-align: top;\n",
       "    }\n",
       "\n",
       "    .dataframe thead th {\n",
       "        text-align: right;\n",
       "    }\n",
       "</style>\n",
       "<table border=\"1\" class=\"dataframe\">\n",
       "  <thead>\n",
       "    <tr style=\"text-align: right;\">\n",
       "      <th></th>\n",
       "      <th>Time</th>\n",
       "      <th>CO_GT</th>\n",
       "      <th>PT08_S1_CO</th>\n",
       "      <th>NMHC_GT</th>\n",
       "      <th>C6H6_GT</th>\n",
       "      <th>PT08_S2_NMHC</th>\n",
       "      <th>NOx_GT</th>\n",
       "      <th>PT08_S3_NOx</th>\n",
       "      <th>NO2_GT</th>\n",
       "      <th>PT08_S4_NO2</th>\n",
       "      <th>PT08_S5_O3</th>\n",
       "      <th>T</th>\n",
       "      <th>RH</th>\n",
       "      <th>AH</th>\n",
       "    </tr>\n",
       "  </thead>\n",
       "  <tbody>\n",
       "    <tr>\n",
       "      <th>0</th>\n",
       "      <td>18</td>\n",
       "      <td>2.6</td>\n",
       "      <td>1360.00</td>\n",
       "      <td>150</td>\n",
       "      <td>11.881723</td>\n",
       "      <td>1045.50</td>\n",
       "      <td>166.0</td>\n",
       "      <td>1056.25</td>\n",
       "      <td>113.0</td>\n",
       "      <td>1692.00</td>\n",
       "      <td>1267.50</td>\n",
       "      <td>13.60</td>\n",
       "      <td>48.875001</td>\n",
       "      <td>0.757754</td>\n",
       "    </tr>\n",
       "    <tr>\n",
       "      <th>1</th>\n",
       "      <td>19</td>\n",
       "      <td>2.0</td>\n",
       "      <td>1292.25</td>\n",
       "      <td>112</td>\n",
       "      <td>9.397165</td>\n",
       "      <td>954.75</td>\n",
       "      <td>103.0</td>\n",
       "      <td>1173.75</td>\n",
       "      <td>92.0</td>\n",
       "      <td>1558.75</td>\n",
       "      <td>972.25</td>\n",
       "      <td>13.30</td>\n",
       "      <td>47.700000</td>\n",
       "      <td>0.725487</td>\n",
       "    </tr>\n",
       "    <tr>\n",
       "      <th>2</th>\n",
       "      <td>20</td>\n",
       "      <td>2.2</td>\n",
       "      <td>1402.00</td>\n",
       "      <td>88</td>\n",
       "      <td>8.997817</td>\n",
       "      <td>939.25</td>\n",
       "      <td>131.0</td>\n",
       "      <td>1140.00</td>\n",
       "      <td>114.0</td>\n",
       "      <td>1554.50</td>\n",
       "      <td>1074.00</td>\n",
       "      <td>11.90</td>\n",
       "      <td>53.975000</td>\n",
       "      <td>0.750239</td>\n",
       "    </tr>\n",
       "    <tr>\n",
       "      <th>3</th>\n",
       "      <td>21</td>\n",
       "      <td>2.2</td>\n",
       "      <td>1375.50</td>\n",
       "      <td>80</td>\n",
       "      <td>9.228796</td>\n",
       "      <td>948.25</td>\n",
       "      <td>172.0</td>\n",
       "      <td>1092.00</td>\n",
       "      <td>122.0</td>\n",
       "      <td>1583.75</td>\n",
       "      <td>1203.25</td>\n",
       "      <td>11.00</td>\n",
       "      <td>60.000000</td>\n",
       "      <td>0.786713</td>\n",
       "    </tr>\n",
       "    <tr>\n",
       "      <th>4</th>\n",
       "      <td>22</td>\n",
       "      <td>1.6</td>\n",
       "      <td>1272.25</td>\n",
       "      <td>51</td>\n",
       "      <td>6.518224</td>\n",
       "      <td>835.50</td>\n",
       "      <td>131.0</td>\n",
       "      <td>1205.00</td>\n",
       "      <td>116.0</td>\n",
       "      <td>1490.00</td>\n",
       "      <td>1110.00</td>\n",
       "      <td>11.15</td>\n",
       "      <td>59.575001</td>\n",
       "      <td>0.788794</td>\n",
       "    </tr>\n",
       "  </tbody>\n",
       "</table>\n",
       "</div>"
      ],
      "text/plain": [
       "   Time  CO_GT  PT08_S1_CO  NMHC_GT    C6H6_GT  PT08_S2_NMHC  NOx_GT  \\\n",
       "0    18    2.6     1360.00      150  11.881723       1045.50   166.0   \n",
       "1    19    2.0     1292.25      112   9.397165        954.75   103.0   \n",
       "2    20    2.2     1402.00       88   8.997817        939.25   131.0   \n",
       "3    21    2.2     1375.50       80   9.228796        948.25   172.0   \n",
       "4    22    1.6     1272.25       51   6.518224        835.50   131.0   \n",
       "\n",
       "   PT08_S3_NOx  NO2_GT  PT08_S4_NO2  PT08_S5_O3      T         RH        AH  \n",
       "0      1056.25   113.0      1692.00     1267.50  13.60  48.875001  0.757754  \n",
       "1      1173.75    92.0      1558.75      972.25  13.30  47.700000  0.725487  \n",
       "2      1140.00   114.0      1554.50     1074.00  11.90  53.975000  0.750239  \n",
       "3      1092.00   122.0      1583.75     1203.25  11.00  60.000000  0.786713  \n",
       "4      1205.00   116.0      1490.00     1110.00  11.15  59.575001  0.788794  "
      ]
     },
     "execution_count": 62,
     "metadata": {},
     "output_type": "execute_result"
    }
   ],
   "source": [
    "df_new.head()"
   ]
  },
  {
   "cell_type": "code",
   "execution_count": 64,
   "metadata": {},
   "outputs": [
    {
     "name": "stderr",
     "output_type": "stream",
     "text": [
      "C:\\Users\\sony\\Anaconda3\\lib\\site-packages\\pandas\\core\\indexing.py:543: SettingWithCopyWarning: \n",
      "A value is trying to be set on a copy of a slice from a DataFrame.\n",
      "Try using .loc[row_indexer,col_indexer] = value instead\n",
      "\n",
      "See the caveats in the documentation: http://pandas.pydata.org/pandas-docs/stable/indexing.html#indexing-view-versus-copy\n",
      "  self.obj[item] = s\n"
     ]
    }
   ],
   "source": [
    "df_new.iloc[:, 1 : ] = scaler.fit_transform(df_new.iloc[: , 1:])"
   ]
  },
  {
   "cell_type": "code",
   "execution_count": 65,
   "metadata": {},
   "outputs": [],
   "source": [
    "df_new_frame = pd.DataFrame(df_new, columns = df.drop(\"Date\", axis = 1).columns)"
   ]
  },
  {
   "cell_type": "code",
   "execution_count": 66,
   "metadata": {},
   "outputs": [
    {
     "data": {
      "text/html": [
       "<div>\n",
       "<style scoped>\n",
       "    .dataframe tbody tr th:only-of-type {\n",
       "        vertical-align: middle;\n",
       "    }\n",
       "\n",
       "    .dataframe tbody tr th {\n",
       "        vertical-align: top;\n",
       "    }\n",
       "\n",
       "    .dataframe thead th {\n",
       "        text-align: right;\n",
       "    }\n",
       "</style>\n",
       "<table border=\"1\" class=\"dataframe\">\n",
       "  <thead>\n",
       "    <tr style=\"text-align: right;\">\n",
       "      <th></th>\n",
       "      <th>Time</th>\n",
       "      <th>CO_GT</th>\n",
       "      <th>PT08_S1_CO</th>\n",
       "      <th>NMHC_GT</th>\n",
       "      <th>C6H6_GT</th>\n",
       "      <th>PT08_S2_NMHC</th>\n",
       "      <th>NOx_GT</th>\n",
       "      <th>PT08_S3_NOx</th>\n",
       "      <th>NO2_GT</th>\n",
       "      <th>PT08_S4_NO2</th>\n",
       "      <th>PT08_S5_O3</th>\n",
       "      <th>T</th>\n",
       "      <th>RH</th>\n",
       "      <th>AH</th>\n",
       "    </tr>\n",
       "  </thead>\n",
       "  <tbody>\n",
       "    <tr>\n",
       "      <th>0</th>\n",
       "      <td>18</td>\n",
       "      <td>0.479515</td>\n",
       "      <td>1.199102</td>\n",
       "      <td>2.194479</td>\n",
       "      <td>0.241465</td>\n",
       "      <td>0.399045</td>\n",
       "      <td>0.008994</td>\n",
       "      <td>0.860118</td>\n",
       "      <td>0.444035</td>\n",
       "      <td>0.681301</td>\n",
       "      <td>0.614165</td>\n",
       "      <td>-0.533950</td>\n",
       "      <td>-0.020638</td>\n",
       "      <td>-0.663157</td>\n",
       "    </tr>\n",
       "    <tr>\n",
       "      <th>1</th>\n",
       "      <td>19</td>\n",
       "      <td>0.471842</td>\n",
       "      <td>0.886995</td>\n",
       "      <td>1.924348</td>\n",
       "      <td>-0.092067</td>\n",
       "      <td>0.058920</td>\n",
       "      <td>-0.240938</td>\n",
       "      <td>1.317671</td>\n",
       "      <td>0.278544</td>\n",
       "      <td>0.296392</td>\n",
       "      <td>-0.126815</td>\n",
       "      <td>-0.567915</td>\n",
       "      <td>-0.088497</td>\n",
       "      <td>-0.743065</td>\n",
       "    </tr>\n",
       "    <tr>\n",
       "      <th>2</th>\n",
       "      <td>20</td>\n",
       "      <td>0.474400</td>\n",
       "      <td>1.392586</td>\n",
       "      <td>1.753739</td>\n",
       "      <td>-0.145676</td>\n",
       "      <td>0.000828</td>\n",
       "      <td>-0.129857</td>\n",
       "      <td>1.186246</td>\n",
       "      <td>0.451915</td>\n",
       "      <td>0.284115</td>\n",
       "      <td>0.128543</td>\n",
       "      <td>-0.726423</td>\n",
       "      <td>0.273897</td>\n",
       "      <td>-0.681767</td>\n",
       "    </tr>\n",
       "    <tr>\n",
       "      <th>3</th>\n",
       "      <td>21</td>\n",
       "      <td>0.474400</td>\n",
       "      <td>1.270507</td>\n",
       "      <td>1.696869</td>\n",
       "      <td>-0.114669</td>\n",
       "      <td>0.034559</td>\n",
       "      <td>0.032798</td>\n",
       "      <td>0.999331</td>\n",
       "      <td>0.514960</td>\n",
       "      <td>0.368608</td>\n",
       "      <td>0.452918</td>\n",
       "      <td>-0.828320</td>\n",
       "      <td>0.621852</td>\n",
       "      <td>-0.591440</td>\n",
       "    </tr>\n",
       "    <tr>\n",
       "      <th>4</th>\n",
       "      <td>22</td>\n",
       "      <td>0.466727</td>\n",
       "      <td>0.794860</td>\n",
       "      <td>1.490716</td>\n",
       "      <td>-0.478542</td>\n",
       "      <td>-0.388020</td>\n",
       "      <td>-0.129857</td>\n",
       "      <td>1.439361</td>\n",
       "      <td>0.467677</td>\n",
       "      <td>0.097799</td>\n",
       "      <td>0.218892</td>\n",
       "      <td>-0.811337</td>\n",
       "      <td>0.597308</td>\n",
       "      <td>-0.586284</td>\n",
       "    </tr>\n",
       "  </tbody>\n",
       "</table>\n",
       "</div>"
      ],
      "text/plain": [
       "   Time     CO_GT  PT08_S1_CO   NMHC_GT   C6H6_GT  PT08_S2_NMHC    NOx_GT  \\\n",
       "0    18  0.479515    1.199102  2.194479  0.241465      0.399045  0.008994   \n",
       "1    19  0.471842    0.886995  1.924348 -0.092067      0.058920 -0.240938   \n",
       "2    20  0.474400    1.392586  1.753739 -0.145676      0.000828 -0.129857   \n",
       "3    21  0.474400    1.270507  1.696869 -0.114669      0.034559  0.032798   \n",
       "4    22  0.466727    0.794860  1.490716 -0.478542     -0.388020 -0.129857   \n",
       "\n",
       "   PT08_S3_NOx    NO2_GT  PT08_S4_NO2  PT08_S5_O3         T        RH  \\\n",
       "0     0.860118  0.444035     0.681301    0.614165 -0.533950 -0.020638   \n",
       "1     1.317671  0.278544     0.296392   -0.126815 -0.567915 -0.088497   \n",
       "2     1.186246  0.451915     0.284115    0.128543 -0.726423  0.273897   \n",
       "3     0.999331  0.514960     0.368608    0.452918 -0.828320  0.621852   \n",
       "4     1.439361  0.467677     0.097799    0.218892 -0.811337  0.597308   \n",
       "\n",
       "         AH  \n",
       "0 -0.663157  \n",
       "1 -0.743065  \n",
       "2 -0.681767  \n",
       "3 -0.591440  \n",
       "4 -0.586284  "
      ]
     },
     "execution_count": 66,
     "metadata": {},
     "output_type": "execute_result"
    }
   ],
   "source": [
    "df_new_frame.head()"
   ]
  },
  {
   "cell_type": "code",
   "execution_count": null,
   "metadata": {},
   "outputs": [],
   "source": []
  },
  {
   "cell_type": "code",
   "execution_count": 50,
   "metadata": {},
   "outputs": [],
   "source": [
    "from sklearn.linear_model import LogisticRegression\n",
    "from sklearn.model_selection import train_test_split\n",
    "from sklearn import metrics\n",
    "model = LogisticRegression()"
   ]
  },
  {
   "cell_type": "markdown",
   "metadata": {},
   "source": [
    "#### Taking \"T\" as target column\n"
   ]
  },
  {
   "cell_type": "code",
   "execution_count": 68,
   "metadata": {},
   "outputs": [],
   "source": [
    "x = df_new_frame.drop(\"Time\", axis = 1)\n",
    "y = df_new_frame[\"Time\"]"
   ]
  },
  {
   "cell_type": "code",
   "execution_count": 69,
   "metadata": {},
   "outputs": [],
   "source": [
    "xtrain, xtest, ytrain, ytest = train_test_split(x, y, test_size = 0.2, random_state = 111)"
   ]
  },
  {
   "cell_type": "code",
   "execution_count": 70,
   "metadata": {},
   "outputs": [
    {
     "name": "stderr",
     "output_type": "stream",
     "text": [
      "C:\\Users\\sony\\Anaconda3\\lib\\site-packages\\sklearn\\linear_model\\logistic.py:432: FutureWarning: Default solver will be changed to 'lbfgs' in 0.22. Specify a solver to silence this warning.\n",
      "  FutureWarning)\n",
      "C:\\Users\\sony\\Anaconda3\\lib\\site-packages\\sklearn\\linear_model\\logistic.py:469: FutureWarning: Default multi_class will be changed to 'auto' in 0.22. Specify the multi_class option to silence this warning.\n",
      "  \"this warning.\", FutureWarning)\n"
     ]
    },
    {
     "data": {
      "text/plain": [
       "LogisticRegression(C=1.0, class_weight=None, dual=False, fit_intercept=True,\n",
       "                   intercept_scaling=1, l1_ratio=None, max_iter=100,\n",
       "                   multi_class='warn', n_jobs=None, penalty='l2',\n",
       "                   random_state=None, solver='warn', tol=0.0001, verbose=0,\n",
       "                   warm_start=False)"
      ]
     },
     "execution_count": 70,
     "metadata": {},
     "output_type": "execute_result"
    }
   ],
   "source": [
    "model.fit(xtrain, ytrain)"
   ]
  },
  {
   "cell_type": "code",
   "execution_count": 71,
   "metadata": {},
   "outputs": [],
   "source": [
    "predict = model.predict(xtest)"
   ]
  },
  {
   "cell_type": "code",
   "execution_count": 73,
   "metadata": {},
   "outputs": [
    {
     "name": "stdout",
     "output_type": "stream",
     "text": [
      "\n",
      "metrics.confusion_matrix : \n",
      " [[ 2 14  4  4  3  4  6  6  1  0  1  4  0  0  2  1  2  0  0  0  3  3  0 27]\n",
      " [ 3 12  8  6  6  5  9  3  0  0  1  1  0  0  1  0  1  0  0  0  1  1  3 11]\n",
      " [ 1  4 14  4  6 23  9  0  1  1  1  1  0  0  0  0  0  0  0  0  0  0  2  2]\n",
      " [ 0  1  0 64  9  4  1  1  1  0  0  0  0  0  0  1  0  0  0  0  0  0  0  0]\n",
      " [ 1  2  1  3 37 29  2  0  0  0  0  0  0  0  0  0  0  0  0  0  0  0  0  3]\n",
      " [ 1  1  2  6 10 38 13  1  0  0  0  0  0  0  0  0  0  0  0  0  0  0  0  0]\n",
      " [ 0  2  3  3  4 20 17  8  0  0  2  0  0  0  0  0  0  0  0  0  0  0  1  0]\n",
      " [ 0  7  3  1  2 11 12  6 22  4  2  1  0  1  0  0  0  0  0  1  2  0  2  3]\n",
      " [ 0  4  1  1  2  4  5  1 30  8  2  3  0  0  0  1  1  0  1  3  1  0  0  1]\n",
      " [ 2  1  3  2  0  0  5  0 19 11 13  4  1  0  0  2  1  0  0  3  4  2  0  4]\n",
      " [ 1  3  0  2  0  1  3  3  2  6 16 11  1  2  4  5  1  0  1  0  2  2  2  6]\n",
      " [ 0  2  1  0  0  2  2  3  3  3 21  8  7  0  2  4  5  0  1  2  1  2  2  4]\n",
      " [ 0  1  3  0  1  0  4  1  2  3 10 16  4  4  4 10  6  3  1  1  6  1  0  2]\n",
      " [ 0  0  0  0  0  1  2  1  2  1  3  6  2  3  8 16  8  3  1  0  3  0  1  3]\n",
      " [ 0  0  1  2  1  1  1  0  7  2  3  7  2  3  3 14 13  3  5  3  4  2  2  2]\n",
      " [ 0  1  1  0  1  0  0  2  2  0  5  4  2  2  1  9 17  6  4  1  5  2  0  1]\n",
      " [ 0  2  0  1  2  0  0  2  1  2  5  3  1  0  4 15 13  7  4  5  0  2  2  1]\n",
      " [ 1  0  1  0  0  2  1  3  3  3  4  6  0  1  4 17 12  5 10  3  4  1  1  3]\n",
      " [ 0  0  3  0  0  0  1  1 10  0  2  1  1  0  4  6 10  2  9 16  6  1  1  2]\n",
      " [ 0  0  0  1  0  0  2  0  4  6  3  2  1  1  5  3  5  2 12 18  7  0  1  3]\n",
      " [ 0  1  0  0  0  0  2  0  8  2  7  2  2  1  2  3  4  1  2 17  8  1  0  5]\n",
      " [ 0  3  4  2  0  0  3  6  3  4  7  8  1  0  0  1  2  0  1  2  4  9  6  8]\n",
      " [ 3  5  4  4  3  1  1  3  1  1  3  3  1  0  0  2  1  0  0  0  6  9  2 27]\n",
      " [ 2  8  4  2  3  2  1  2  2  1  8  6  0  0  1  2  0  0  0  3  0  6  5 21]]\n",
      "\n",
      "metrics.classification_report : \n",
      "               precision    recall  f1-score   support\n",
      "\n",
      "           0       0.12      0.02      0.04        87\n",
      "           1       0.16      0.17      0.16        72\n",
      "           2       0.23      0.20      0.22        69\n",
      "           3       0.59      0.78      0.67        82\n",
      "           4       0.41      0.47      0.44        78\n",
      "           5       0.26      0.53      0.35        72\n",
      "           6       0.17      0.28      0.21        60\n",
      "           7       0.11      0.07      0.09        80\n",
      "           8       0.24      0.43      0.31        69\n",
      "           9       0.19      0.14      0.16        77\n",
      "          10       0.13      0.22      0.17        74\n",
      "          11       0.08      0.11      0.09        75\n",
      "          12       0.15      0.05      0.07        83\n",
      "          13       0.17      0.05      0.07        64\n",
      "          14       0.07      0.04      0.05        81\n",
      "          15       0.08      0.14      0.10        66\n",
      "          16       0.13      0.18      0.15        72\n",
      "          17       0.16      0.06      0.09        85\n",
      "          18       0.17      0.12      0.14        76\n",
      "          19       0.23      0.24      0.23        76\n",
      "          20       0.12      0.12      0.12        68\n",
      "          21       0.20      0.12      0.15        74\n",
      "          22       0.06      0.03      0.04        80\n",
      "          23       0.15      0.27      0.19        79\n",
      "\n",
      "    accuracy                           0.20      1799\n",
      "   macro avg       0.18      0.20      0.18      1799\n",
      "weighted avg       0.18      0.20      0.18      1799\n",
      "\n"
     ]
    }
   ],
   "source": [
    "print(\"\\nmetrics.confusion_matrix : \\n\", metrics.confusion_matrix(ytest, predict))\n",
    "print(\"\\nmetrics.classification_report : \\n\", metrics.classification_report(ytest, predict))\n"
   ]
  },
  {
   "cell_type": "code",
   "execution_count": 75,
   "metadata": {},
   "outputs": [],
   "source": [
    "import statsmodels.formula.api as smf\n"
   ]
  },
  {
   "cell_type": "code",
   "execution_count": 76,
   "metadata": {},
   "outputs": [
    {
     "data": {
      "text/html": [
       "<table class=\"simpletable\">\n",
       "<caption>OLS Regression Results</caption>\n",
       "<tr>\n",
       "  <th>Dep. Variable:</th>          <td>Time</td>       <th>  R-squared:         </th> <td>   0.324</td> \n",
       "</tr>\n",
       "<tr>\n",
       "  <th>Model:</th>                   <td>OLS</td>       <th>  Adj. R-squared:    </th> <td>   0.323</td> \n",
       "</tr>\n",
       "<tr>\n",
       "  <th>Method:</th>             <td>Least Squares</td>  <th>  F-statistic:       </th> <td>   358.8</td> \n",
       "</tr>\n",
       "<tr>\n",
       "  <th>Date:</th>             <td>Fri, 04 Oct 2019</td> <th>  Prob (F-statistic):</th>  <td>  0.00</td>  \n",
       "</tr>\n",
       "<tr>\n",
       "  <th>Time:</th>                 <td>17:28:59</td>     <th>  Log-Likelihood:    </th> <td> -28380.</td> \n",
       "</tr>\n",
       "<tr>\n",
       "  <th>No. Observations:</th>      <td>  8991</td>      <th>  AIC:               </th> <td>5.679e+04</td>\n",
       "</tr>\n",
       "<tr>\n",
       "  <th>Df Residuals:</th>          <td>  8978</td>      <th>  BIC:               </th> <td>5.688e+04</td>\n",
       "</tr>\n",
       "<tr>\n",
       "  <th>Df Model:</th>              <td>    12</td>      <th>                     </th>     <td> </td>    \n",
       "</tr>\n",
       "<tr>\n",
       "  <th>Covariance Type:</th>      <td>nonrobust</td>    <th>                     </th>     <td> </td>    \n",
       "</tr>\n",
       "</table>\n",
       "<table class=\"simpletable\">\n",
       "<tr>\n",
       "        <td></td>          <th>coef</th>     <th>std err</th>      <th>t</th>      <th>P>|t|</th>  <th>[0.025</th>    <th>0.975]</th>  \n",
       "</tr>\n",
       "<tr>\n",
       "  <th>Intercept</th>    <td>   11.4796</td> <td>    0.060</td> <td>  191.389</td> <td> 0.000</td> <td>   11.362</td> <td>   11.597</td>\n",
       "</tr>\n",
       "<tr>\n",
       "  <th>T</th>            <td>   -0.6631</td> <td>    0.230</td> <td>   -2.884</td> <td> 0.004</td> <td>   -1.114</td> <td>   -0.212</td>\n",
       "</tr>\n",
       "<tr>\n",
       "  <th>PT08_S1_CO</th>   <td>    3.4171</td> <td>    0.182</td> <td>   18.822</td> <td> 0.000</td> <td>    3.061</td> <td>    3.773</td>\n",
       "</tr>\n",
       "<tr>\n",
       "  <th>NMHC_GT</th>      <td>   -0.1284</td> <td>    0.076</td> <td>   -1.679</td> <td> 0.093</td> <td>   -0.278</td> <td>    0.022</td>\n",
       "</tr>\n",
       "<tr>\n",
       "  <th>C6H6_GT</th>      <td>   -6.7103</td> <td>    0.388</td> <td>  -17.297</td> <td> 0.000</td> <td>   -7.471</td> <td>   -5.950</td>\n",
       "</tr>\n",
       "<tr>\n",
       "  <th>PT08_S2_NMHC</th> <td>   13.1655</td> <td>    0.478</td> <td>   27.526</td> <td> 0.000</td> <td>   12.228</td> <td>   14.103</td>\n",
       "</tr>\n",
       "<tr>\n",
       "  <th>NOx_GT</th>       <td>   -0.6584</td> <td>    0.180</td> <td>   -3.661</td> <td> 0.000</td> <td>   -1.011</td> <td>   -0.306</td>\n",
       "</tr>\n",
       "<tr>\n",
       "  <th>PT08_S3_NOx</th>  <td>    0.7641</td> <td>    0.142</td> <td>    5.395</td> <td> 0.000</td> <td>    0.486</td> <td>    1.042</td>\n",
       "</tr>\n",
       "<tr>\n",
       "  <th>NO2_GT</th>       <td>    0.9246</td> <td>    0.140</td> <td>    6.604</td> <td> 0.000</td> <td>    0.650</td> <td>    1.199</td>\n",
       "</tr>\n",
       "<tr>\n",
       "  <th>PT08_S4_NO2</th>  <td>   -3.5670</td> <td>    0.231</td> <td>  -15.435</td> <td> 0.000</td> <td>   -4.020</td> <td>   -3.114</td>\n",
       "</tr>\n",
       "<tr>\n",
       "  <th>PT08_S5_O3</th>   <td>   -4.2531</td> <td>    0.175</td> <td>  -24.293</td> <td> 0.000</td> <td>   -4.596</td> <td>   -3.910</td>\n",
       "</tr>\n",
       "<tr>\n",
       "  <th>RH</th>           <td>   -1.7065</td> <td>    0.172</td> <td>   -9.906</td> <td> 0.000</td> <td>   -2.044</td> <td>   -1.369</td>\n",
       "</tr>\n",
       "<tr>\n",
       "  <th>AH</th>           <td>    1.6047</td> <td>    0.195</td> <td>    8.212</td> <td> 0.000</td> <td>    1.222</td> <td>    1.988</td>\n",
       "</tr>\n",
       "</table>\n",
       "<table class=\"simpletable\">\n",
       "<tr>\n",
       "  <th>Omnibus:</th>       <td>218.020</td> <th>  Durbin-Watson:     </th> <td>   0.770</td>\n",
       "</tr>\n",
       "<tr>\n",
       "  <th>Prob(Omnibus):</th> <td> 0.000</td>  <th>  Jarque-Bera (JB):  </th> <td> 233.609</td>\n",
       "</tr>\n",
       "<tr>\n",
       "  <th>Skew:</th>          <td> 0.393</td>  <th>  Prob(JB):          </th> <td>1.87e-51</td>\n",
       "</tr>\n",
       "<tr>\n",
       "  <th>Kurtosis:</th>      <td> 3.077</td>  <th>  Cond. No.          </th> <td>    23.6</td>\n",
       "</tr>\n",
       "</table><br/><br/>Warnings:<br/>[1] Standard Errors assume that the covariance matrix of the errors is correctly specified."
      ],
      "text/plain": [
       "<class 'statsmodels.iolib.summary.Summary'>\n",
       "\"\"\"\n",
       "                            OLS Regression Results                            \n",
       "==============================================================================\n",
       "Dep. Variable:                   Time   R-squared:                       0.324\n",
       "Model:                            OLS   Adj. R-squared:                  0.323\n",
       "Method:                 Least Squares   F-statistic:                     358.8\n",
       "Date:                Fri, 04 Oct 2019   Prob (F-statistic):               0.00\n",
       "Time:                        17:28:59   Log-Likelihood:                -28380.\n",
       "No. Observations:                8991   AIC:                         5.679e+04\n",
       "Df Residuals:                    8978   BIC:                         5.688e+04\n",
       "Df Model:                          12                                         \n",
       "Covariance Type:            nonrobust                                         \n",
       "================================================================================\n",
       "                   coef    std err          t      P>|t|      [0.025      0.975]\n",
       "--------------------------------------------------------------------------------\n",
       "Intercept       11.4796      0.060    191.389      0.000      11.362      11.597\n",
       "T               -0.6631      0.230     -2.884      0.004      -1.114      -0.212\n",
       "PT08_S1_CO       3.4171      0.182     18.822      0.000       3.061       3.773\n",
       "NMHC_GT         -0.1284      0.076     -1.679      0.093      -0.278       0.022\n",
       "C6H6_GT         -6.7103      0.388    -17.297      0.000      -7.471      -5.950\n",
       "PT08_S2_NMHC    13.1655      0.478     27.526      0.000      12.228      14.103\n",
       "NOx_GT          -0.6584      0.180     -3.661      0.000      -1.011      -0.306\n",
       "PT08_S3_NOx      0.7641      0.142      5.395      0.000       0.486       1.042\n",
       "NO2_GT           0.9246      0.140      6.604      0.000       0.650       1.199\n",
       "PT08_S4_NO2     -3.5670      0.231    -15.435      0.000      -4.020      -3.114\n",
       "PT08_S5_O3      -4.2531      0.175    -24.293      0.000      -4.596      -3.910\n",
       "RH              -1.7065      0.172     -9.906      0.000      -2.044      -1.369\n",
       "AH               1.6047      0.195      8.212      0.000       1.222       1.988\n",
       "==============================================================================\n",
       "Omnibus:                      218.020   Durbin-Watson:                   0.770\n",
       "Prob(Omnibus):                  0.000   Jarque-Bera (JB):              233.609\n",
       "Skew:                           0.393   Prob(JB):                     1.87e-51\n",
       "Kurtosis:                       3.077   Cond. No.                         23.6\n",
       "==============================================================================\n",
       "\n",
       "Warnings:\n",
       "[1] Standard Errors assume that the covariance matrix of the errors is correctly specified.\n",
       "\"\"\""
      ]
     },
     "execution_count": 76,
     "metadata": {},
     "output_type": "execute_result"
    }
   ],
   "source": [
    "est = smf.ols(\"Time ~ T + PT08_S1_CO + NMHC_GT + C6H6_GT + PT08_S2_NMHC + NOx_GT + PT08_S3_NOx + NO2_GT + PT08_S4_NO2 + PT08_S5_O3 + RH + AH\", df_new_frame).fit()\n",
    "est.summary()"
   ]
  },
  {
   "cell_type": "markdown",
   "metadata": {},
   "source": [
    "#### as you can see, recall = 0.2 so accuracy is very less and hence we will discard the Classification approach"
   ]
  },
  {
   "cell_type": "code",
   "execution_count": null,
   "metadata": {},
   "outputs": [],
   "source": []
  },
  {
   "cell_type": "code",
   "execution_count": null,
   "metadata": {},
   "outputs": [],
   "source": []
  },
  {
   "cell_type": "code",
   "execution_count": null,
   "metadata": {},
   "outputs": [],
   "source": []
  },
  {
   "cell_type": "code",
   "execution_count": null,
   "metadata": {},
   "outputs": [],
   "source": []
  },
  {
   "cell_type": "code",
   "execution_count": null,
   "metadata": {},
   "outputs": [],
   "source": []
  },
  {
   "cell_type": "code",
   "execution_count": null,
   "metadata": {},
   "outputs": [],
   "source": []
  },
  {
   "cell_type": "code",
   "execution_count": null,
   "metadata": {},
   "outputs": [],
   "source": []
  },
  {
   "cell_type": "code",
   "execution_count": null,
   "metadata": {},
   "outputs": [],
   "source": []
  }
 ],
 "metadata": {
  "kernelspec": {
   "display_name": "Python 3",
   "language": "python",
   "name": "python3"
  },
  "language_info": {
   "codemirror_mode": {
    "name": "ipython",
    "version": 3
   },
   "file_extension": ".py",
   "mimetype": "text/x-python",
   "name": "python",
   "nbconvert_exporter": "python",
   "pygments_lexer": "ipython3",
   "version": "3.7.3"
  }
 },
 "nbformat": 4,
 "nbformat_minor": 2
}
